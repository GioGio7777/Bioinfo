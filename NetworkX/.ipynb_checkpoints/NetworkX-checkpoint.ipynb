{
 "cells": [
  {
   "cell_type": "markdown",
   "id": "24fb6424",
   "metadata": {},
   "source": [
    "# NetworkX Exercise \n",
    "\n",
    "### What is networkX\n",
    "NetworkX is a Python library for studying graphs and networks. NetworkX is free software released under the BSD-new license.\n",
    "\n",
    "* Classes for graphs and digraphs.\n",
    "* Conversion of graphs to and from several formats.\n",
    "* Ability to construct random graphs or construct them incrementally.\n",
    "* Ability to find subgraphs, cliques, k-cores.\n",
    "* Explore adjacency, degree, diameter, radius, center, betweenness, etc.\n",
    "* Draw networks in 2D and 3D.\n",
    "\n",
    "#### [YOUTUBE VIDEO](https://www.youtube.com/watch?v=CPQeSmDGiOQ)"
   ]
  },
  {
   "cell_type": "markdown",
   "id": "ae5c0af5",
   "metadata": {},
   "source": [
    "### What is edge and nodes\n",
    "Networks can represent many different types of data. The nodes represent different entities (e.g. proteins or genes in biological networks), and edges convey information about the links between the nodes. First we will concentrate on the edges. Depending on the nature of underlying edge information, different types of analysis can be performed. For this reason, it is useful to highlight the main types of edges that can be found in a network (Figure 3).\n",
    "\n",
    "### Types of network edges\n",
    "* Undirected edge:\n",
    "\n",
    "    This type of edge is found in protein-protein interaction networks (PPINs). The relationship between the nodes is a simple connection, without a given ‘flow’ implied, since the evidence behind the relationship only tells us that A binds B.\n",
    "    \n",
    "\n",
    "* Directed edges:\n",
    "\n",
    "    This is the kind of connection found, for example, in metabolic or gene regulation networks. There is a clear flow of signal implied and the network can be organised hierarchically.\n",
    "    \n",
    "\n",
    "* Weighted edges:\n",
    "\n",
    "    Directed or undirected edges can also have weight or a quantitative value associated with them. This is used to depict concepts such a reliability of an interaction, the quantitative expression change that a gene induces over another or even how closely related two genes are in terms of sequence similarity. Edges can also be weighted by their centrality values or several other topological parameters.\n",
    "\n",
    "### What is degree\n",
    "In graph theory , the degree of a vertex is the number of edges connecting it\n",
    "\n",
    "### What is Adjacency matrix\n",
    "In graph theory and computer science, an adjacency matrix is a square matrix used to represent a finite graph. The elements of the matrix indicate whether pairs of vertices are adjacent or not in the graph.\n",
    "\n",
    "In the special case of a finite simple graph, the adjacency matrix is a (0,1)-matrix with zeros on its diagonal. If the graph is undirected (i.e. all of its edges are bidirectional), the adjacency matrix is symmetric. The relationship between a graph and the eigenvalues and eigenvectors of its adjacency matrix is studied in spectral graph theory.\n",
    "\n",
    "The adjacency matrix of a graph should be distinguished from its incidence matrix, a different matrix representation whose elements indicate whether vertex–edge pairs are incident or not, and its degree matrix, which contains information about the degree of each vertex."
   ]
  },
  {
   "cell_type": "markdown",
   "id": "447e117d",
   "metadata": {},
   "source": [
    "## Image of nodes and edges"
   ]
  },
  {
   "cell_type": "markdown",
   "id": "c5ec95ec",
   "metadata": {},
   "source": [
    "![img](https://www.ebi.ac.uk/training/online/courses/network-analysis-of-protein-interaction-data-an-introduction/wp-content/uploads/sites/64/2020/08/new-fig-3-1024x364.png)"
   ]
  },
  {
   "cell_type": "markdown",
   "id": "eaa1e0fa",
   "metadata": {},
   "source": [
    "## Image of Adjacency matrix"
   ]
  },
  {
   "cell_type": "markdown",
   "id": "7450127b",
   "metadata": {},
   "source": [
    "![img](https://media.geeksforgeeks.org/wp-content/uploads/20200604170814/add-and-remove-edge-in-adjacency-matrix-representation-initial1.jpg)"
   ]
  },
  {
   "cell_type": "markdown",
   "id": "75f602eb",
   "metadata": {},
   "source": [
    "## Basic"
   ]
  },
  {
   "cell_type": "code",
   "execution_count": 1,
   "id": "0bb6a74d",
   "metadata": {},
   "outputs": [],
   "source": [
    "import networkx as nx\n",
    "import matplotlib.pyplot as plt\n",
    "import random"
   ]
  },
  {
   "cell_type": "code",
   "execution_count": 2,
   "id": "418a54a6",
   "metadata": {},
   "outputs": [],
   "source": [
    "# Created empty undirected graph\n",
    "G = nx.Graph() #nx.DiGraph() for directed graph"
   ]
  },
  {
   "cell_type": "code",
   "execution_count": 3,
   "id": "42a61d45",
   "metadata": {},
   "outputs": [],
   "source": [
    "# add node\n",
    "G.add_node(0)\n",
    "G.add_nodes_from([1,2,3]) # can user range(...)"
   ]
  },
  {
   "cell_type": "code",
   "execution_count": 4,
   "id": "9b3207f7",
   "metadata": {},
   "outputs": [],
   "source": [
    "# add edge \n",
    "G.add_edge(0,1)\n",
    "G.add_edges_from([(1,2),(2,3),(3,1)]) # from file ?"
   ]
  },
  {
   "cell_type": "code",
   "execution_count": 5,
   "id": "70845d7d",
   "metadata": {},
   "outputs": [
    {
     "name": "stdout",
     "output_type": "stream",
     "text": [
      "Number of edges 4.\n",
      "Number of nodes 4.\n"
     ]
    }
   ],
   "source": [
    "print(f\"Number of edges {G.number_of_edges()}.\")\n",
    "print(f\"Number of nodes {G.number_of_nodes()}.\")"
   ]
  },
  {
   "cell_type": "code",
   "execution_count": 6,
   "id": "2d9f229e",
   "metadata": {},
   "outputs": [
    {
     "name": "stdout",
     "output_type": "stream",
     "text": [
      "G.nodes [0, 1, 2, 3].\n",
      "G.edges [(0, 1), (1, 2), (1, 3), (2, 3)].\n",
      "G.degree [(0, 1), (1, 3), (2, 2), (3, 2)].\n",
      "G.adj {0: {1: {}}, 1: {0: {}, 2: {}, 3: {}}, 2: {1: {}, 3: {}}, 3: {2: {}, 1: {}}}.\n"
     ]
    }
   ],
   "source": [
    "# Views\n",
    "print(f\"G.nodes {G.nodes}.\")\n",
    "print(f\"G.edges {G.edges}.\")\n",
    "print(f\"G.degree {G.degree}.\") # (node,degree)\n",
    "print(f\"G.adj {G.adj}.\")"
   ]
  },
  {
   "cell_type": "code",
   "execution_count": 7,
   "id": "ad77a89e",
   "metadata": {},
   "outputs": [
    {
     "name": "stdout",
     "output_type": "stream",
     "text": [
      "G.nodes.data(): [(0, {'Smoking': False, 'weight': 184}), (1, {'Smoking': True, 'weight': 182}), (2, {'Smoking': False, 'weight': 166}), (3, {'Smoking': False, 'weight': 150})]\n"
     ]
    }
   ],
   "source": [
    "# add attributes to nodes\n",
    "for i in G.nodes: # #1 most widely used graph operation\n",
    "    G.nodes[i]['Smoking'] = False \n",
    "    G.nodes[i]['weight'] =random.choice(range(100,200))\n",
    "G.nodes[1]['Smoking'] = True\n",
    "print(\"G.nodes.data():\",G.nodes.data())"
   ]
  },
  {
   "cell_type": "code",
   "execution_count": 8,
   "id": "c0a72fa8",
   "metadata": {},
   "outputs": [
    {
     "name": "stdout",
     "output_type": "stream",
     "text": [
      "G.nodes.data(): [(0, 1, {'strength': 0.32}), (1, 2, {'strength': 0.3}), (1, 3, {'strength': 0.8}), (2, 3, {'strength': 0.16})]\n",
      "G.adj {0: {1: {'strength': 0.32}}, 1: {0: {'strength': 0.32}, 2: {'strength': 0.3}, 3: {'strength': 0.8}}, 2: {1: {'strength': 0.3}, 3: {'strength': 0.16}}, 3: {2: {'strength': 0.16}, 1: {'strength': 0.8}}}\n"
     ]
    }
   ],
   "source": [
    "# add attributes to edges\n",
    "for e in G.edges: # also widely used operation\n",
    "    G.edges[e]['strength'] = round(random.random(),2)\n",
    "print(\"G.nodes.data():\",G.edges.data())\n",
    "print(\"G.adj\",G.adj)"
   ]
  },
  {
   "cell_type": "code",
   "execution_count": 9,
   "id": "fbb9e0e3",
   "metadata": {},
   "outputs": [
    {
     "name": "stdout",
     "output_type": "stream",
     "text": [
      "Using G.adj[2]:\n",
      "1\n",
      "3\n",
      "Using G[2]:\n",
      "1\n",
      "3\n",
      "Using G.neighbors(2):\n",
      "1\n",
      "3\n"
     ]
    }
   ],
   "source": [
    "#3 ways of iterating over the neighbors of a node\n",
    "# #2 most widely used operation in graphs\n",
    "print(\"Using G.adj[2]:\")\n",
    "for nbr in G.adj[2]:\n",
    "    print(nbr)\n",
    "\n",
    "print(\"Using G[2]:\")\n",
    "for nbr in G[2]:\n",
    "    print(nbr)\n",
    "\n",
    "print(\"Using G.neighbors(2):\")\n",
    "for nbr in G.neighbors(2):\n",
    "    print(nbr)\n",
    "\n"
   ]
  },
  {
   "cell_type": "markdown",
   "id": "9b651c9a",
   "metadata": {},
   "source": [
    "## Visualize"
   ]
  },
  {
   "cell_type": "code",
   "execution_count": 10,
   "id": "d1c71e37",
   "metadata": {},
   "outputs": [
    {
     "data": {
      "image/png": "[encoded data removed]",
      "text/plain": [
       "<Figure size 432x288 with 1 Axes>"
      ]
     },
     "metadata": {},
     "output_type": "display_data"
    }
   ],
   "source": [
    "# Color nodes and visualize network\n",
    "plt.figure(1)\n",
    "\n",
    "# Simple 1-line code:nx.draw_networkx(G)\n",
    "color_map = []\n",
    "size_map = []\n",
    "\n",
    "for i in G.nodes:\n",
    "    size_map.append(G.nodes[i]['weight']*2)\n",
    "    if G.nodes[i]['Smoking']:\n",
    "        color_map.append('red')\n",
    "    else:\n",
    "        color_map.append('green')\n",
    "nx.draw_networkx(G,\n",
    "                node_color = color_map,\n",
    "                node_size = size_map,\n",
    "                pos = nx.spring_layout(G,iterations=1000),\n",
    "                arrows = False, \n",
    "                with_labels = True)\n",
    "plt.show()"
   ]
  },
  {
   "cell_type": "markdown",
   "id": "1688da78",
   "metadata": {},
   "source": [
    "## Graph Models"
   ]
  },
  {
   "cell_type": "markdown",
   "id": "60ef4ea9",
   "metadata": {},
   "source": [
    "### What is Erdős–Rényi\n",
    "    In the mathematical field of graph theory, the Erdős–Rényi model is either of two closely related models for generating random graphs or the evolution of a random network. They are named after Hungarian mathematicians Paul Erdős and Alfréd Rényi, who first introduced one of the models in 1959, while Edgar Gilbert introduced the other model contemporaneously and independently of Erdős and Rényi.In the model of Erdős and Rényi, all graphs on a fixed vertex set with a fixed number of edges are equally likely; in the model introduced by Gilbert, also called the Erdős–Rényi–Gilbert model, each edge has a fixed probability of being present or absent, independently of the other edges. These models can be used in the probabilistic method to prove the existence of graphs satisfying various properties, or to provide a rigorous definition of what it means for a property to hold for almost all graphs.\n",
    "    \n",
    "![img](https://www.researchgate.net/profile/Neville-Curtis/publication/313854183/figure/fig10/AS:463976178950150@1487631949714/Erdoes-Renyi-model-of-random-graph-evolution.png)\n",
    "    \n",
    "### What is Barabasi-Albert\n",
    "    The Barabási–Albert (BA) model is an algorithm for generating random scale-free networks using a preferential attachment mechanism. Several natural and human-made systems, including the Internet, the World Wide Web, citation networks, and some social networks are thought to be approximately scale-free and certainly contain few nodes (called hubs) with unusually high degree as compared to the other nodes of the network. The BA model tries to explain the existence of such nodes in real networks. The algorithm is named for its inventors Albert-László Barabási and Réka Albert and is a special case of an earlier and more general model called Price's model.\n",
    "    \n",
    "![img](https://upload.wikimedia.org/wikipedia/commons/4/40/Barabasi_albert_graph.svg)"
   ]
  },
  {
   "cell_type": "code",
   "execution_count": 11,
   "id": "0ac12460",
   "metadata": {},
   "outputs": [
    {
     "data": {
      "image/png": "[encoded data removed]",
      "text/plain": [
       "<Figure size 432x288 with 1 Axes>"
      ]
     },
     "metadata": {
      "needs_background": "light"
     },
     "output_type": "display_data"
    }
   ],
   "source": [
    "#Erdos-Renyi random graph & degree distribution\n",
    "plt.figure(2)\n",
    "G_Erdos =  nx.erdos_renyi_graph(1000,0.1)\n",
    "degrees = [G_Erdos.degree[i] for i in G_Erdos.nodes]\n",
    "plt.xlabel('k')\n",
    "plt.ylabel('p_k')\n",
    "plt.title('Degree Distribution (Erdos-Renyi)')\n",
    "plt.hist(degrees,bins = range(min(degrees),max(degrees)))\n",
    "plt.show()"
   ]
  },
  {
   "cell_type": "code",
   "execution_count": 12,
   "id": "bce47555",
   "metadata": {},
   "outputs": [
    {
     "data": {
      "image/png": "[encoded data removed]",
      "text/plain": [
       "<Figure size 432x288 with 1 Axes>"
      ]
     },
     "metadata": {
      "needs_background": "light"
     },
     "output_type": "display_data"
    }
   ],
   "source": [
    "# Barabasi-Albert preferential attachment graph & degree distribution\n",
    "plt.figure(2)\n",
    "G_Barabasi =  nx.barabasi_albert_graph(1000,3)\n",
    "degrees = [G_Barabasi.degree[i] for i in G_Barabasi.nodes]\n",
    "plt.xlabel('k')\n",
    "plt.ylabel('p_k')\n",
    "plt.title('Degree Distribution (Barabasi-Albert)')\n",
    "plt.hist(degrees,bins = range(min(degrees),max(degrees)))\n",
    "plt.show()"
   ]
  }
 ],
 "metadata": {
  "kernelspec": {
   "display_name": "Python 3 (ipykernel)",
   "language": "python",
   "name": "python3"
  },
  "language_info": {
   "codemirror_mode": {
    "name": "ipython",
    "version": 3
   },
   "file_extension": ".py",
   "mimetype": "text/x-python",
   "name": "python",
   "nbconvert_exporter": "python",
   "pygments_lexer": "ipython3",
   "version": "3.9.7"
  }
 },
 "nbformat": 4,
 "nbformat_minor": 5
}
