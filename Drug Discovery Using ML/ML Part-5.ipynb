{
 "cells": [
  {
   "cell_type": "markdown",
   "id": "326bf99d",
   "metadata": {},
   "source": [
    "# Bioinformatics Project - Computational Drug Discovery [Part 5] Comparing Regressors"
   ]
  },
  {
   "cell_type": "markdown",
   "id": "b49a782f",
   "metadata": {},
   "source": [
    "* LazyPredict requries 0.23.x"
   ]
  },
  {
   "cell_type": "markdown",
   "id": "6d1593db",
   "metadata": {},
   "source": [
    "## 1. Import libraries"
   ]
  },
  {
   "cell_type": "code",
   "execution_count": 1,
   "id": "84c5efca",
   "metadata": {},
   "outputs": [
    {
     "name": "stdout",
     "output_type": "stream",
     "text": [
      "Requirement already satisfied: lazypredict in x:\\anaconda\\lib\\site-packages (0.2.7)\n",
      "Requirement already satisfied: Click>=7.0 in x:\\anaconda\\lib\\site-packages (from lazypredict) (8.0.4)\n",
      "Requirement already satisfied: colorama in x:\\anaconda\\lib\\site-packages (from Click>=7.0->lazypredict) (0.4.4)\n"
     ]
    }
   ],
   "source": [
    "! pip install lazypredict"
   ]
  },
  {
   "cell_type": "code",
   "execution_count": 7,
   "id": "6c30477d",
   "metadata": {},
   "outputs": [
    {
     "ename": "ImportError",
     "evalue": "cannot import name 'all_estimators' from 'sklearn.utils._testing' (X:\\Anaconda\\lib\\site-packages\\sklearn\\utils\\_testing.py)",
     "output_type": "error",
     "traceback": [
      "\u001b[1;31m---------------------------------------------------------------------------\u001b[0m",
      "\u001b[1;31mImportError\u001b[0m                               Traceback (most recent call last)",
      "Input \u001b[1;32mIn [7]\u001b[0m, in \u001b[0;36m<cell line: 3>\u001b[1;34m()\u001b[0m\n\u001b[0;32m      1\u001b[0m \u001b[38;5;28;01mimport\u001b[39;00m \u001b[38;5;21;01mpandas\u001b[39;00m \u001b[38;5;28;01mas\u001b[39;00m \u001b[38;5;21;01mpd\u001b[39;00m\n\u001b[0;32m      2\u001b[0m \u001b[38;5;28;01mimport\u001b[39;00m \u001b[38;5;21;01mseaborn\u001b[39;00m \u001b[38;5;28;01mas\u001b[39;00m \u001b[38;5;21;01msns\u001b[39;00m\n\u001b[1;32m----> 3\u001b[0m \u001b[38;5;28;01mfrom\u001b[39;00m \u001b[38;5;21;01msklearn\u001b[39;00m\u001b[38;5;21;01m.\u001b[39;00m\u001b[38;5;21;01mutils\u001b[39;00m\u001b[38;5;21;01m.\u001b[39;00m\u001b[38;5;21;01m_testing\u001b[39;00m \u001b[38;5;28;01mimport\u001b[39;00m all_estimators\n\u001b[0;32m      4\u001b[0m \u001b[38;5;28;01mfrom\u001b[39;00m \u001b[38;5;21;01msklearn\u001b[39;00m\u001b[38;5;21;01m.\u001b[39;00m\u001b[38;5;21;01mmodel_selection\u001b[39;00m \u001b[38;5;28;01mimport\u001b[39;00m train_test_split\n\u001b[0;32m      5\u001b[0m \u001b[38;5;28;01mimport\u001b[39;00m \u001b[38;5;21;01mlazypredict\u001b[39;00m\n",
      "\u001b[1;31mImportError\u001b[0m: cannot import name 'all_estimators' from 'sklearn.utils._testing' (X:\\Anaconda\\lib\\site-packages\\sklearn\\utils\\_testing.py)"
     ]
    }
   ],
   "source": [
    "import pandas as pd\n",
    "import seaborn as sns\n",
    "from sklearn.utils._testing import all_estimators\n",
    "from sklearn.model_selection import train_test_split\n",
    "import lazypredict\n",
    "from lazypredict.Supervised import LazyRegressor"
   ]
  },
  {
   "cell_type": "markdown",
   "id": "4a9fc8af",
   "metadata": {},
   "source": [
    "## 2. Load the data set"
   ]
  },
  {
   "cell_type": "code",
   "execution_count": null,
   "id": "dd7e3044",
   "metadata": {},
   "outputs": [],
   "source": [
    "! python -m wget https://github.com/dataprofessor/data/raw/master/acetylcholinesterase_06_bioactivity_data_3class_pIC50_pubchem_fp.csv"
   ]
  },
  {
   "cell_type": "code",
   "execution_count": null,
   "id": "8b73eb1f",
   "metadata": {},
   "outputs": [],
   "source": [
    "df = pd.read_csv('acetylcholinesterase_06_bioactivity_data_3class_pIC50_pubchem_fp.csv')\n"
   ]
  },
  {
   "cell_type": "code",
   "execution_count": null,
   "id": "e845081e",
   "metadata": {},
   "outputs": [],
   "source": [
    "X = df.drop('pIC50', axis=1)\n",
    "Y = df.pIC50"
   ]
  },
  {
   "cell_type": "markdown",
   "id": "848af78c",
   "metadata": {},
   "source": [
    "## 3. Data pre-processing"
   ]
  },
  {
   "cell_type": "code",
   "execution_count": null,
   "id": "cfd2855e",
   "metadata": {},
   "outputs": [],
   "source": [
    "# Examine X dimension\n",
    "X.shape"
   ]
  },
  {
   "cell_type": "code",
   "execution_count": null,
   "id": "4ca0ba05",
   "metadata": {},
   "outputs": [],
   "source": [
    "# Remove low variance features\n",
    "from sklearn.feature_selection import VarianceThreshold\n",
    "selection = VarianceThreshold(threshold=(.8 * (1 - .8)))    \n",
    "X = selection.fit_transform(X)\n",
    "X.shape"
   ]
  },
  {
   "cell_type": "code",
   "execution_count": null,
   "id": "040483e9",
   "metadata": {},
   "outputs": [],
   "source": [
    "# Perform data splitting using 80/20 ratio\n",
    "X_train, X_test, Y_train, Y_test = train_test_split(X, Y, test_size=0.2, random_state=42)"
   ]
  },
  {
   "cell_type": "markdown",
   "id": "a343d0b7",
   "metadata": {},
   "source": [
    "## 4. Compare ML algorithms"
   ]
  },
  {
   "cell_type": "code",
   "execution_count": null,
   "id": "2bf2362a",
   "metadata": {},
   "outputs": [],
   "source": [
    "# Defines and builds the lazyclassifier\n",
    "clf = LazyRegressor(verbose=0,ignore_warnings=True, custom_metric=None)\n",
    "models_train,predictions_train = clf.fit(X_train, X_train, Y_train, Y_train)\n",
    "models_test,predictions_test = clf.fit(X_train, X_test, Y_train, Y_test)"
   ]
  },
  {
   "cell_type": "code",
   "execution_count": null,
   "id": "1c1a2ac2",
   "metadata": {},
   "outputs": [],
   "source": [
    "# Performance table of the training set (80% subset)\n",
    "predictions_train"
   ]
  },
  {
   "cell_type": "code",
   "execution_count": null,
   "id": "6aba0291",
   "metadata": {},
   "outputs": [],
   "source": [
    "# Performance table of the test set (20% subset)\n",
    "predictions_test"
   ]
  },
  {
   "cell_type": "markdown",
   "id": "019fb043",
   "metadata": {},
   "source": [
    "## 5. Data visualization of model performance"
   ]
  },
  {
   "cell_type": "code",
   "execution_count": null,
   "id": "215dbb3e",
   "metadata": {},
   "outputs": [],
   "source": [
    "# Bar plot of R-squared values\n",
    "import matplotlib.pyplot as plt\n",
    "import seaborn as sns\n",
    "\n",
    "#train[\"R-Squared\"] = [0 if i < 0 else i for i in train.iloc[:,0] ]\n",
    "\n",
    "plt.figure(figsize=(5, 10))\n",
    "sns.set_theme(style=\"whitegrid\")\n",
    "ax = sns.barplot(y=predictions_train.index, x=\"R-Squared\", data=predictions_train)\n",
    "ax.set(xlim=(0, 1))"
   ]
  },
  {
   "cell_type": "code",
   "execution_count": null,
   "id": "79c372ff",
   "metadata": {},
   "outputs": [],
   "source": [
    "# Bar plot of RMSE values\n",
    "import matplotlib.pyplot as plt\n",
    "import seaborn as sns\n",
    "\n",
    "plt.figure(figsize=(5, 10))\n",
    "sns.set_theme(style=\"whitegrid\")\n",
    "ax = sns.barplot(y=predictions_train.index, x=\"RMSE\", data=predictions_train)\n",
    "ax.set(xlim=(0, 10))"
   ]
  },
  {
   "cell_type": "code",
   "execution_count": null,
   "id": "cbb110a5",
   "metadata": {},
   "outputs": [],
   "source": [
    "# Bar plot of calculation time\n",
    "import matplotlib.pyplot as plt\n",
    "import seaborn as sns\n",
    "\n",
    "plt.figure(figsize=(5, 10))\n",
    "sns.set_theme(style=\"whitegrid\")\n",
    "ax = sns.barplot(y=predictions_train.index, x=\"Time Taken\", data=predictions_train)\n",
    "ax.set(xlim=(0, 10))"
   ]
  }
 ],
 "metadata": {
  "kernelspec": {
   "display_name": "Python 3 (ipykernel)",
   "language": "python",
   "name": "python3"
  },
  "language_info": {
   "codemirror_mode": {
    "name": "ipython",
    "version": 3
   },
   "file_extension": ".py",
   "mimetype": "text/x-python",
   "name": "python",
   "nbconvert_exporter": "python",
   "pygments_lexer": "ipython3",
   "version": "3.9.12"
  }
 },
 "nbformat": 4,
 "nbformat_minor": 5
}
